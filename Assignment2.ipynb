{
  "nbformat": 4,
  "nbformat_minor": 0,
  "metadata": {
    "colab": {
      "provenance": []
    },
    "kernelspec": {
      "name": "python3",
      "display_name": "Python 3"
    },
    "language_info": {
      "name": "python"
    }
  },
  "cells": [
    {
      "cell_type": "code",
      "execution_count": null,
      "metadata": {
        "id": "r5MbMXZXnL3o"
      },
      "outputs": [],
      "source": []
    },
    {
      "cell_type": "markdown",
      "source": [
        "1. Data structure and its importance:\n",
        "  \n",
        "\n",
        "*   Data structure is way of organizing and storing data so that it can be accessed and manipulated easily and efficiently. Few builtin data structures in Python are - Lists, Tuples, Set etc\n",
        "\n",
        "Importance of Data structure:\n",
        "\n",
        "*   Data structure helps in efficient and faster retrival of data depending upon different scenarios of the problem.\n",
        "*   Data structure also makes programming easier.\n",
        "*   Data structure helps in faster resolution of problem statements.\n",
        "\n",
        "\n",
        "\n"
      ],
      "metadata": {
        "id": "8Z4_e6oDnlOo"
      }
    },
    {
      "cell_type": "markdown",
      "source": [
        "2. Difference between mutable and immutable data types:\n",
        "\n",
        "\n",
        "\n",
        "*   Mutable data types allow chang in the values in due course of progremming withou creating any other object. Example List data type in Python is a mutable data type.\n",
        "\n",
        "\n"
      ],
      "metadata": {
        "id": "HDZOv0qopciN"
      }
    },
    {
      "cell_type": "code",
      "source": [
        "a=[1,3,\"Mango\",\"Banana\"]\n",
        "a"
      ],
      "metadata": {
        "colab": {
          "base_uri": "https://localhost:8080/"
        },
        "id": "BqIYtpJoq-0R",
        "outputId": "f56525bf-a76c-4da3-8059-bfb66285499b"
      },
      "execution_count": null,
      "outputs": [
        {
          "output_type": "execute_result",
          "data": {
            "text/plain": [
              "[1, 3, 'Mango', 'Banana']"
            ]
          },
          "metadata": {},
          "execution_count": 1
        }
      ]
    },
    {
      "cell_type": "code",
      "source": [
        "a.append(\"Orange\")"
      ],
      "metadata": {
        "id": "Be5AvV2zrHNh"
      },
      "execution_count": null,
      "outputs": []
    },
    {
      "cell_type": "code",
      "source": [
        "a"
      ],
      "metadata": {
        "colab": {
          "base_uri": "https://localhost:8080/"
        },
        "id": "nHWaGATlrP-T",
        "outputId": "ed7548b7-6c5d-4abe-80a6-dbabb73439c4"
      },
      "execution_count": null,
      "outputs": [
        {
          "output_type": "execute_result",
          "data": {
            "text/plain": [
              "[1, 3, 'Mango', 'Banana', 'Orange']"
            ]
          },
          "metadata": {},
          "execution_count": 3
        }
      ]
    },
    {
      "cell_type": "code",
      "source": [],
      "metadata": {
        "id": "RQ2mXW1xrTxJ"
      },
      "execution_count": null,
      "outputs": []
    },
    {
      "cell_type": "markdown",
      "source": [
        "\n",
        "*   Immutable data types do not allow any changes to their values. Example: Tuple\n",
        "\n",
        "\n"
      ],
      "metadata": {
        "id": "1Ca6gBfNrVaT"
      }
    },
    {
      "cell_type": "code",
      "source": [
        "a=(1,2,\"mango\")"
      ],
      "metadata": {
        "id": "M0fs60LBrkXA"
      },
      "execution_count": null,
      "outputs": []
    },
    {
      "cell_type": "code",
      "source": [
        "a"
      ],
      "metadata": {
        "colab": {
          "base_uri": "https://localhost:8080/"
        },
        "id": "wjdT_YltronY",
        "outputId": "3b25d5e0-45b2-4e01-9d38-2b24e8ec3eb1"
      },
      "execution_count": null,
      "outputs": [
        {
          "output_type": "execute_result",
          "data": {
            "text/plain": [
              "(1, 2, 'mango')"
            ]
          },
          "metadata": {},
          "execution_count": 5
        }
      ]
    },
    {
      "cell_type": "code",
      "source": [
        "a[2]"
      ],
      "metadata": {
        "colab": {
          "base_uri": "https://localhost:8080/",
          "height": 36
        },
        "id": "cpZLKtRvrpQD",
        "outputId": "fb0296ee-ea5b-4c01-d145-92548ca97fb7"
      },
      "execution_count": null,
      "outputs": [
        {
          "output_type": "execute_result",
          "data": {
            "text/plain": [
              "'mango'"
            ],
            "application/vnd.google.colaboratory.intrinsic+json": {
              "type": "string"
            }
          },
          "metadata": {},
          "execution_count": 6
        }
      ]
    },
    {
      "cell_type": "code",
      "source": [
        "a[2]= \"Banana\""
      ],
      "metadata": {
        "colab": {
          "base_uri": "https://localhost:8080/",
          "height": 141
        },
        "id": "45-dC8aJrwsJ",
        "outputId": "886fadb9-b5d5-4908-8637-7cd0f8de6e76"
      },
      "execution_count": null,
      "outputs": [
        {
          "output_type": "error",
          "ename": "TypeError",
          "evalue": "'tuple' object does not support item assignment",
          "traceback": [
            "\u001b[0;31m---------------------------------------------------------------------------\u001b[0m",
            "\u001b[0;31mTypeError\u001b[0m                                 Traceback (most recent call last)",
            "\u001b[0;32m<ipython-input-7-1c11d44c3ff3>\u001b[0m in \u001b[0;36m<cell line: 0>\u001b[0;34m()\u001b[0m\n\u001b[0;32m----> 1\u001b[0;31m \u001b[0ma\u001b[0m\u001b[0;34m[\u001b[0m\u001b[0;36m2\u001b[0m\u001b[0;34m]\u001b[0m\u001b[0;34m=\u001b[0m \u001b[0;34m\"Banana\"\u001b[0m\u001b[0;34m\u001b[0m\u001b[0;34m\u001b[0m\u001b[0m\n\u001b[0m",
            "\u001b[0;31mTypeError\u001b[0m: 'tuple' object does not support item assignment"
          ]
        }
      ]
    },
    {
      "cell_type": "code",
      "source": [],
      "metadata": {
        "id": "7m2K7zzwr4xx"
      },
      "execution_count": null,
      "outputs": []
    },
    {
      "cell_type": "markdown",
      "source": [
        "3. Difference between List and Tuple in Python\n",
        "  Main Difference List and Tuple in Python is Tuple is immutable data type whereas List is mutable data type. List used to order items under one variable which can be added,removed and replaced but Tuples are used to order items under  one variable which is needed to be unchanged."
      ],
      "metadata": {
        "id": "PcKjN77Cr6tN"
      }
    },
    {
      "cell_type": "markdown",
      "source": [
        "4. How Dictionary Stores data ?\n",
        "   Dictionary in Python stores data in form of pair that is Key and Value. It is a ordered and changeable collection data but do not allow duplicates. These are generally written in curly brackets and the key and values are separated by \":\"."
      ],
      "metadata": {
        "id": "nPNi5o8zta3T"
      }
    },
    {
      "cell_type": "code",
      "source": [
        "my_dict={\"brand\":\"Skoda\",\"model\":\"Slavia\",\"year\":\"2021\"}\n",
        "my_dict"
      ],
      "metadata": {
        "colab": {
          "base_uri": "https://localhost:8080/"
        },
        "id": "wLQbXCKCCBeL",
        "outputId": "55c65f6d-23c6-4aa2-ac2d-2f72a81487df"
      },
      "execution_count": null,
      "outputs": [
        {
          "output_type": "execute_result",
          "data": {
            "text/plain": [
              "{'brand': 'Skoda', 'model': 'Slavia', 'year': '2021'}"
            ]
          },
          "metadata": {},
          "execution_count": 1
        }
      ]
    },
    {
      "cell_type": "code",
      "source": [],
      "metadata": {
        "id": "Kq0VyWBQCcFe"
      },
      "execution_count": null,
      "outputs": []
    },
    {
      "cell_type": "markdown",
      "source": [
        "5. Use of a Set instead of a List in Python:\n",
        "\n",
        "\n",
        "*   Set is used for storing a collection of unique data items without any order sequence but List stores data in an ordred sequence of items along with duplicates of the items.\n",
        "*  Set are of faster search speed than List\n",
        "*   For large data sets , Set performs faster in iteration over unique elements than List\n",
        "\n",
        "\n",
        "\n",
        "\n"
      ],
      "metadata": {
        "id": "8jf9teTCC_Z9"
      }
    },
    {
      "cell_type": "markdown",
      "source": [
        "6. String in Python and How it is different than a List?\n",
        "   String is a sequence of characters  and it is used to represent and manipulate textual data. Both String and List are sequenced types in Python but there are few differences in between them-\n",
        "\n",
        "\n",
        "  Strings are immutable but lists are mutable i.e the content in a string can\n",
        "not be altered once its created, if you still want to modify a string then you need to create a new string.\n",
        "  Strings can only contain characters whereas Lists can have elements of any data type.\n",
        "  \n",
        "\n",
        "\n",
        "\n"
      ],
      "metadata": {
        "id": "9AQu2J-6EZ1L"
      }
    },
    {
      "cell_type": "markdown",
      "source": [
        "7. How do Tuples ensure data integrity in Python?\n",
        "   Data intigrity is basically known as accuracy, consistency and reliabilty of data through out its lifecycle. Tuples in Python are immutable i.e the data contained by a Tuple cannot be changed once it is being created. Hence the data in a Tuple can not be modified, added or removed through out its life cycle. This is why Tuples in Python ensure data integrity.  "
      ],
      "metadata": {
        "id": "Gj-1NPRIPIaw"
      }
    },
    {
      "cell_type": "markdown",
      "source": [
        "8. What is hash table and how does it relates to Dictionaries in Python?\n",
        "   In Python Dictionaries are implemented using hash table. The hash tables are data structures which stores Key-Value pairs, where each key is unique and used to access its coressponding value. It mainly uses hash function to compute an index in an array of slots where the value associated with the key is stored."
      ],
      "metadata": {
        "id": "SeXT8QR-Qh2C"
      }
    },
    {
      "cell_type": "markdown",
      "source": [
        "9. Can Lists contain different data types in Python?\n",
        "     Yes lists can contain different data types in Python as they are heterogenous in nature. Lists are versatile without any strict constraints on their elements i.e. a single list can hold integers,strings,floats, booleans etc."
      ],
      "metadata": {
        "id": "0toCLgyAR91o"
      }
    },
    {
      "cell_type": "markdown",
      "source": [
        "10. Why Strings are immutable in Python?\n",
        "Strings in Python are immutable,as thier content can never be changed or modified once they are created. Due to this property of strings, they are used as dictionary keys.The immutability of strings helps in hashing, performance optimization, safety and ease of use."
      ],
      "metadata": {
        "id": "ONg1bYOCS1cn"
      }
    },
    {
      "cell_type": "markdown",
      "source": [
        "11. Advantages of dictionary over list for certain tasks:\n",
        "\n",
        "\n",
        "*   While dealing with large data sets dictionaries are  faster for lookups than the List as dictionaries implements hash table for data retrival whereas list require sequential traversal.\n",
        "*   dictionaries stores dta in Key-value pair which provides more systamatic,intuitive,readable and easily managable of dta representation and retrieval but List storeselements of different data types and need knowledge of index for data retrieval.\n",
        "*   Dictionaries and Lists both are dynamic but Dictionaries provied efficient ways to manage data modifications due to their key based organization.\n",
        "\n",
        "\n",
        "\n",
        "\n"
      ],
      "metadata": {
        "id": "zAZPjkRBUdj3"
      }
    },
    {
      "cell_type": "markdown",
      "source": [
        "12. A scenario where Tuple is preferable over List\n",
        "In Python Tuples are Immutable and of a fixed size. They are faster and more memory efficient than lists.Tuples are preferred when immutable sequence is needed such as constant data.\n",
        "Example: Consider a scenrio where you need to store informations about students studying in a school. In that case you need to have their name, address and zip code. These are the items that rarely changes and its needed to be unultered."
      ],
      "metadata": {
        "id": "bCJ-_P_EW5FP"
      }
    },
    {
      "cell_type": "code",
      "source": [
        "home_address={(\"Rahul\",\"Jayanagar\",\"560077\"), (\"Arjun\",\"Muthy Nagar\",\"560043\"),(\"Kalpana\",\"RT Nagar\",\"560079\")}"
      ],
      "metadata": {
        "id": "EJgYwTvgZnZt"
      },
      "execution_count": null,
      "outputs": []
    },
    {
      "cell_type": "code",
      "source": [
        "print(home_address)"
      ],
      "metadata": {
        "colab": {
          "base_uri": "https://localhost:8080/"
        },
        "id": "X5XOqNr7aZPR",
        "outputId": "5983d939-3713-47c4-b845-e9c46bb11778"
      },
      "execution_count": null,
      "outputs": [
        {
          "output_type": "stream",
          "name": "stdout",
          "text": [
            "{('Arjun', 'Muthy Nagar', '560043'), ('Rahul', 'Jayanagar', '560077'), ('Kalpana', 'RT Nagar', '560079')}\n"
          ]
        }
      ]
    },
    {
      "cell_type": "code",
      "source": [],
      "metadata": {
        "id": "fLmSFPNRanG1"
      },
      "execution_count": null,
      "outputs": []
    },
    {
      "cell_type": "markdown",
      "source": [
        "13. How do sets handle duplicate values in Python?\n",
        "Sets in Python stores only unique values.They automatically discrad the duplicate values even if added to it by a programmer."
      ],
      "metadata": {
        "id": "AxuUbupXa2EP"
      }
    },
    {
      "cell_type": "code",
      "source": [
        "a={1,2,3,4,3,2,5,7,1,8,5}\n",
        "type(a)"
      ],
      "metadata": {
        "colab": {
          "base_uri": "https://localhost:8080/"
        },
        "id": "qyQmnAExbRY4",
        "outputId": "b38ee08b-266a-4905-a548-3bd2ded997a9"
      },
      "execution_count": null,
      "outputs": [
        {
          "output_type": "execute_result",
          "data": {
            "text/plain": [
              "set"
            ]
          },
          "metadata": {},
          "execution_count": 4
        }
      ]
    },
    {
      "cell_type": "code",
      "source": [
        "print(a)"
      ],
      "metadata": {
        "colab": {
          "base_uri": "https://localhost:8080/"
        },
        "id": "ch8UJmvQbbII",
        "outputId": "e882c05d-8a33-4ad7-bd84-856dfd9f1e19"
      },
      "execution_count": null,
      "outputs": [
        {
          "output_type": "stream",
          "name": "stdout",
          "text": [
            "{1, 2, 3, 4, 5, 7, 8}\n"
          ]
        }
      ]
    },
    {
      "cell_type": "code",
      "source": [],
      "metadata": {
        "id": "ImYXdLlrbeG_"
      },
      "execution_count": null,
      "outputs": []
    },
    {
      "cell_type": "markdown",
      "source": [
        "14. How does the \"in\" key word works differently for lists and dictionaries?\n",
        "Example"
      ],
      "metadata": {
        "id": "jI5uMfvMbfVl"
      }
    },
    {
      "cell_type": "code",
      "source": [
        "a=[\"php\",\"pdf\",\"pnp\",\"npn\"]\n",
        "if \"pdf\" in a:\n",
        "  print (True)\n",
        "else:\n",
        "    print (\"pdf not found in the list\")"
      ],
      "metadata": {
        "colab": {
          "base_uri": "https://localhost:8080/"
        },
        "id": "CAewlFvyb0H_",
        "outputId": "6e95ecb4-7294-493c-dc9f-2502250db0ad"
      },
      "execution_count": null,
      "outputs": [
        {
          "output_type": "stream",
          "name": "stdout",
          "text": [
            "True\n"
          ]
        }
      ]
    },
    {
      "cell_type": "code",
      "source": [
        "d={\"Maya\":23, \"Banita\":24, \"Hema\":20}\n",
        "if \"Maya\"in d:\n",
        "  print (\"Maya's marks:\",d[\"Maya\"])"
      ],
      "metadata": {
        "colab": {
          "base_uri": "https://localhost:8080/"
        },
        "id": "Qg_WzCH9cSC4",
        "outputId": "5bcc2618-14c8-49a1-cb36-37022ca50266"
      },
      "execution_count": null,
      "outputs": [
        {
          "output_type": "stream",
          "name": "stdout",
          "text": [
            "Maya's marks: 23\n"
          ]
        }
      ]
    },
    {
      "cell_type": "code",
      "source": [],
      "metadata": {
        "id": "d7TaNseTdEKK"
      },
      "execution_count": null,
      "outputs": []
    },
    {
      "cell_type": "markdown",
      "source": [
        "15. Can you modify elements of a Tuple?\n",
        "In Python Tuples are immutable, their elements can not be modified after created."
      ],
      "metadata": {
        "id": "68oD994DdGe1"
      }
    },
    {
      "cell_type": "code",
      "source": [
        "my_tup= (1,2,3)\n",
        "type(my_tup)"
      ],
      "metadata": {
        "colab": {
          "base_uri": "https://localhost:8080/"
        },
        "id": "gQjs7PFXdm45",
        "outputId": "2b77da00-d6e9-46ca-a242-f5dfefdb0aa3"
      },
      "execution_count": null,
      "outputs": [
        {
          "output_type": "execute_result",
          "data": {
            "text/plain": [
              "tuple"
            ]
          },
          "metadata": {},
          "execution_count": 10
        }
      ]
    },
    {
      "cell_type": "code",
      "source": [
        "my_tup[0]=7"
      ],
      "metadata": {
        "colab": {
          "base_uri": "https://localhost:8080/",
          "height": 141
        },
        "id": "3nPjADh4dzIT",
        "outputId": "b3b4b8b1-ec16-456c-ba86-8c3bda3f77e9"
      },
      "execution_count": null,
      "outputs": [
        {
          "output_type": "error",
          "ename": "TypeError",
          "evalue": "'tuple' object does not support item assignment",
          "traceback": [
            "\u001b[0;31m---------------------------------------------------------------------------\u001b[0m",
            "\u001b[0;31mTypeError\u001b[0m                                 Traceback (most recent call last)",
            "\u001b[0;32m<ipython-input-11-993e70b87cd8>\u001b[0m in \u001b[0;36m<cell line: 0>\u001b[0;34m()\u001b[0m\n\u001b[0;32m----> 1\u001b[0;31m \u001b[0mmy_tup\u001b[0m\u001b[0;34m[\u001b[0m\u001b[0;36m0\u001b[0m\u001b[0;34m]\u001b[0m\u001b[0;34m=\u001b[0m\u001b[0;36m7\u001b[0m\u001b[0;34m\u001b[0m\u001b[0;34m\u001b[0m\u001b[0m\n\u001b[0m",
            "\u001b[0;31mTypeError\u001b[0m: 'tuple' object does not support item assignment"
          ]
        }
      ]
    },
    {
      "cell_type": "code",
      "source": [],
      "metadata": {
        "id": "y9MEuC8sd4fi"
      },
      "execution_count": null,
      "outputs": []
    },
    {
      "cell_type": "markdown",
      "source": [
        "16. Nested Dictionary\n",
        "A dictionary that contains dictionaries in it , is called nested dictionary. Example"
      ],
      "metadata": {
        "id": "R0uAeLzVd5nn"
      }
    },
    {
      "cell_type": "code",
      "source": [
        "a={1:{\"name\":\"Merry\",\"Age\":\"35\",\"gender\":\"F\"},2:{\"name\":\"Jhon\",\"Age\":\"38\",\"gender\":\"M\"}}\n",
        "print(a[1][\"Age\"])"
      ],
      "metadata": {
        "colab": {
          "base_uri": "https://localhost:8080/"
        },
        "id": "cjfge__heMwh",
        "outputId": "f315abc8-a6a2-4991-c6c8-2613a2072a91"
      },
      "execution_count": null,
      "outputs": [
        {
          "output_type": "stream",
          "name": "stdout",
          "text": [
            "35\n"
          ]
        }
      ]
    },
    {
      "cell_type": "code",
      "source": [],
      "metadata": {
        "id": "aIoDDKB8fX23"
      },
      "execution_count": null,
      "outputs": []
    },
    {
      "cell_type": "markdown",
      "source": [
        "17. Time complexity of accessing an element in dictionary\n",
        "Time complexity of accessing n element / value by its key in a dictionary in Python is o(1), i.e. it takes constant time regardless of the size of the dictionary.This is due to dictionaries use hash table internally for data retrieval which allows constant time lookup."
      ],
      "metadata": {
        "id": "0-_OBIFjfhQM"
      }
    },
    {
      "cell_type": "markdown",
      "source": [
        "18. In which situation Lists are preferred over Dictionaries?\n",
        "Lists are preferred when there is a need for orderd collection of data and sequential operation like maintaining a stack or queue. A scenario where data manipulation is needed the list are preferred as they can store heterogenous data in a systematic manner and it also allows duplicate data items."
      ],
      "metadata": {
        "id": "dUyEgPOegXzN"
      }
    },
    {
      "cell_type": "markdown",
      "source": [
        "19. Why are Dictionaries are considered as unordered , and how does that affect data retrieval?\n",
        "Dictionaries in Python are unordered as they do not have a track over the items based on when they added to it.In case of dictionary in python we need to provide 'key' to access the corresponding value of the 'key'."
      ],
      "metadata": {
        "id": "iZIHr1HvhfsW"
      }
    },
    {
      "cell_type": "markdown",
      "source": [
        "20. Difference between List and dictionary in terms of data retrieval:\n",
        "\n",
        "\n",
        "*   A list is anordered collection of data retrieval and a dictionary is an unordered collection of data in the form of Key:value pair.\n",
        "*   Elements of a List is accessed using index whereas elements in a dictionary is accessed using key.\n",
        "*   Look up time is faster in case of Dictionaries as compared to Lists\n",
        "\n",
        "\n",
        "\n",
        "\n"
      ],
      "metadata": {
        "id": "roEcOt_NsgJJ"
      }
    },
    {
      "cell_type": "markdown",
      "source": [
        "                                 ** PRACTICAL QUESTIONS**"
      ],
      "metadata": {
        "id": "dCarPI13t9cI"
      }
    },
    {
      "cell_type": "markdown",
      "source": [
        "1.  Code to create a string of your name and Print it"
      ],
      "metadata": {
        "id": "Ctqh9VzHuE3d"
      }
    },
    {
      "cell_type": "code",
      "source": [
        "strng=(\"Malabika Patnaik\")\n",
        "type(strng)"
      ],
      "metadata": {
        "colab": {
          "base_uri": "https://localhost:8080/"
        },
        "id": "vBHsLhiVuRh3",
        "outputId": "0745b592-5289-40c2-e673-bbd59dea2e4e"
      },
      "execution_count": null,
      "outputs": [
        {
          "output_type": "execute_result",
          "data": {
            "text/plain": [
              "str"
            ]
          },
          "metadata": {},
          "execution_count": 15
        }
      ]
    },
    {
      "cell_type": "code",
      "source": [
        "print(strng)"
      ],
      "metadata": {
        "colab": {
          "base_uri": "https://localhost:8080/"
        },
        "id": "pwfIPDTUufmg",
        "outputId": "a70ac281-6faf-4ccd-dd40-622885c6ba40"
      },
      "execution_count": null,
      "outputs": [
        {
          "output_type": "stream",
          "name": "stdout",
          "text": [
            "Malabika Patnaik\n"
          ]
        }
      ]
    },
    {
      "cell_type": "code",
      "source": [],
      "metadata": {
        "id": "plhwVNQhusJP"
      },
      "execution_count": null,
      "outputs": []
    },
    {
      "cell_type": "markdown",
      "source": [
        "2. Code to find the length of a string \"Hello World\""
      ],
      "metadata": {
        "id": "TD6VjZ4futac"
      }
    },
    {
      "cell_type": "code",
      "source": [
        "a=(\"Hello World\")\n",
        "len(a)"
      ],
      "metadata": {
        "colab": {
          "base_uri": "https://localhost:8080/"
        },
        "id": "V_FRUXCyu4XG",
        "outputId": "af37641f-3e2f-4db6-bfc2-f91b1849aa1b"
      },
      "execution_count": null,
      "outputs": [
        {
          "output_type": "execute_result",
          "data": {
            "text/plain": [
              "11"
            ]
          },
          "metadata": {},
          "execution_count": 17
        }
      ]
    },
    {
      "cell_type": "code",
      "source": [],
      "metadata": {
        "id": "wrhWWLf0vapo"
      },
      "execution_count": null,
      "outputs": []
    },
    {
      "cell_type": "markdown",
      "source": [
        "3. Code to slice first 3 character of a string \"Python Programming\""
      ],
      "metadata": {
        "id": "wN5EfLBTvcP2"
      }
    },
    {
      "cell_type": "code",
      "source": [
        "a=(\"Python Programming\")\n",
        "a[0:3]"
      ],
      "metadata": {
        "colab": {
          "base_uri": "https://localhost:8080/",
          "height": 36
        },
        "id": "l7aFRch-voPJ",
        "outputId": "bf51287a-e860-4120-89ee-6676d2529c33"
      },
      "execution_count": null,
      "outputs": [
        {
          "output_type": "execute_result",
          "data": {
            "text/plain": [
              "'Pyt'"
            ],
            "application/vnd.google.colaboratory.intrinsic+json": {
              "type": "string"
            }
          },
          "metadata": {},
          "execution_count": 20
        }
      ]
    },
    {
      "cell_type": "code",
      "source": [],
      "metadata": {
        "id": "7DS1OkTOv50F"
      },
      "execution_count": null,
      "outputs": []
    },
    {
      "cell_type": "markdown",
      "source": [
        "4. Code to convert string \"hello\" to upper case"
      ],
      "metadata": {
        "id": "Xh2GYM85wA9A"
      }
    },
    {
      "cell_type": "code",
      "source": [
        "a=(\"hello\")\n",
        "a.upper()"
      ],
      "metadata": {
        "colab": {
          "base_uri": "https://localhost:8080/",
          "height": 36
        },
        "id": "8EUPDtCAwJH_",
        "outputId": "c9f0b1f9-660e-4907-f7c6-e357b9982272"
      },
      "execution_count": null,
      "outputs": [
        {
          "output_type": "execute_result",
          "data": {
            "text/plain": [
              "'HELLO'"
            ],
            "application/vnd.google.colaboratory.intrinsic+json": {
              "type": "string"
            }
          },
          "metadata": {},
          "execution_count": 21
        }
      ]
    },
    {
      "cell_type": "code",
      "source": [],
      "metadata": {
        "id": "gk4nvCGQwZAk"
      },
      "execution_count": null,
      "outputs": []
    },
    {
      "cell_type": "markdown",
      "source": [
        "5. Code to replace the word \"apple\" with \"orange\" in the string \"I like apple\""
      ],
      "metadata": {
        "id": "_loS_fiXwZ_p"
      }
    },
    {
      "cell_type": "code",
      "source": [
        "a=(\"I like apple\")\n",
        "x=a.replace(\"apple\",\"orange\")\n",
        "print(x)"
      ],
      "metadata": {
        "colab": {
          "base_uri": "https://localhost:8080/"
        },
        "id": "FCTVeQmywp_Z",
        "outputId": "5440ff37-3294-4927-9e36-f416553e9cf4"
      },
      "execution_count": null,
      "outputs": [
        {
          "output_type": "stream",
          "name": "stdout",
          "text": [
            "I like orange\n"
          ]
        }
      ]
    },
    {
      "cell_type": "code",
      "source": [],
      "metadata": {
        "id": "tGO3oj0Pw3kP"
      },
      "execution_count": null,
      "outputs": []
    },
    {
      "cell_type": "markdown",
      "source": [
        "6. Code to create a list of numbers 1 to 5 and print it."
      ],
      "metadata": {
        "id": "0aX_cGEhyj0W"
      }
    },
    {
      "cell_type": "code",
      "source": [
        "a=[1,2,3,4,5]\n",
        "type(a)"
      ],
      "metadata": {
        "colab": {
          "base_uri": "https://localhost:8080/"
        },
        "id": "XY2ZnZYYyxbT",
        "outputId": "c819688b-7c26-42ba-f31e-85213672ef53"
      },
      "execution_count": null,
      "outputs": [
        {
          "output_type": "execute_result",
          "data": {
            "text/plain": [
              "list"
            ]
          },
          "metadata": {},
          "execution_count": 27
        }
      ]
    },
    {
      "cell_type": "code",
      "source": [
        "print(a)"
      ],
      "metadata": {
        "colab": {
          "base_uri": "https://localhost:8080/"
        },
        "id": "kMGltCbty3Pm",
        "outputId": "fe2cb5e7-1ccf-479e-fe15-b2faf518ca00"
      },
      "execution_count": null,
      "outputs": [
        {
          "output_type": "stream",
          "name": "stdout",
          "text": [
            "[1, 2, 3, 4, 5]\n"
          ]
        }
      ]
    },
    {
      "cell_type": "code",
      "source": [],
      "metadata": {
        "id": "nFDOzvfgy5yr"
      },
      "execution_count": null,
      "outputs": []
    },
    {
      "cell_type": "markdown",
      "source": [
        "7. Code append 10 to the list [1,2,3,4,5]\n"
      ],
      "metadata": {
        "id": "CX_KtIddzHHp"
      }
    },
    {
      "cell_type": "code",
      "source": [
        "a=[1,2,3,4,5]\n",
        "a.append(10)\n",
        "print(a)"
      ],
      "metadata": {
        "colab": {
          "base_uri": "https://localhost:8080/"
        },
        "id": "3M2pX41AzOVX",
        "outputId": "a57c5ae2-4f27-439b-87d3-fd0a3e127dc6"
      },
      "execution_count": null,
      "outputs": [
        {
          "output_type": "stream",
          "name": "stdout",
          "text": [
            "[1, 2, 3, 4, 5, 10]\n"
          ]
        }
      ]
    },
    {
      "cell_type": "code",
      "source": [],
      "metadata": {
        "id": "jag-mPU6zX6o"
      },
      "execution_count": null,
      "outputs": []
    },
    {
      "cell_type": "markdown",
      "source": [
        "8. Code to remove 3 from the list [1,2,3,4,5]"
      ],
      "metadata": {
        "id": "fdhMUQ69ze7B"
      }
    },
    {
      "cell_type": "code",
      "source": [
        "a=[1,2,3,4,5]\n",
        "a.remove(3)\n",
        "print(a)"
      ],
      "metadata": {
        "colab": {
          "base_uri": "https://localhost:8080/"
        },
        "id": "UeOW6TPYzocC",
        "outputId": "4c6080e0-a680-4860-b17c-e7729264e4fb"
      },
      "execution_count": null,
      "outputs": [
        {
          "output_type": "stream",
          "name": "stdout",
          "text": [
            "[1, 2, 4, 5]\n"
          ]
        }
      ]
    },
    {
      "cell_type": "code",
      "source": [],
      "metadata": {
        "id": "vME8B0MPz4mx"
      },
      "execution_count": null,
      "outputs": []
    },
    {
      "cell_type": "markdown",
      "source": [
        "9. Write a code to access the second element in the list ['a','b','c','d']"
      ],
      "metadata": {
        "id": "f3I9ts7Dz6lY"
      }
    },
    {
      "cell_type": "code",
      "source": [
        "a=['a','b','c','d']\n",
        "a[1]"
      ],
      "metadata": {
        "colab": {
          "base_uri": "https://localhost:8080/",
          "height": 36
        },
        "id": "AhfoU-qm0Iy7",
        "outputId": "d174ab50-ec26-4f04-9863-971b5c68789c"
      },
      "execution_count": null,
      "outputs": [
        {
          "output_type": "execute_result",
          "data": {
            "text/plain": [
              "'b'"
            ],
            "application/vnd.google.colaboratory.intrinsic+json": {
              "type": "string"
            }
          },
          "metadata": {},
          "execution_count": 32
        }
      ]
    },
    {
      "cell_type": "code",
      "source": [],
      "metadata": {
        "id": "bj5H9QGA0TE7"
      },
      "execution_count": null,
      "outputs": []
    },
    {
      "cell_type": "markdown",
      "source": [
        "10. Code to reverse the list [10,20,30,40,50]"
      ],
      "metadata": {
        "id": "K1bJpfNk0Wpf"
      }
    },
    {
      "cell_type": "code",
      "source": [
        "a=[10,20,30,40,50]\n",
        "a.reverse()\n",
        "print(a)"
      ],
      "metadata": {
        "colab": {
          "base_uri": "https://localhost:8080/"
        },
        "id": "pP98w6RV0kWp",
        "outputId": "f3c647d9-78da-4b93-dd5a-7fc363b0fde7"
      },
      "execution_count": null,
      "outputs": [
        {
          "output_type": "stream",
          "name": "stdout",
          "text": [
            "[50, 40, 30, 20, 10]\n"
          ]
        }
      ]
    },
    {
      "cell_type": "code",
      "source": [],
      "metadata": {
        "id": "trjfadzL0yVm"
      },
      "execution_count": null,
      "outputs": []
    },
    {
      "cell_type": "markdown",
      "source": [
        "11. Code to create a Tuple with elements 100,200,300 and print it"
      ],
      "metadata": {
        "id": "jUdefM-C0zgY"
      }
    },
    {
      "cell_type": "code",
      "source": [
        "tup=(100,200,300)\n",
        "type(tup)"
      ],
      "metadata": {
        "colab": {
          "base_uri": "https://localhost:8080/"
        },
        "id": "Yuy3LMEp1AkI",
        "outputId": "f8a33069-4379-4f73-ec68-08602567686d"
      },
      "execution_count": null,
      "outputs": [
        {
          "output_type": "execute_result",
          "data": {
            "text/plain": [
              "tuple"
            ]
          },
          "metadata": {},
          "execution_count": 34
        }
      ]
    },
    {
      "cell_type": "code",
      "source": [
        "print(tup)"
      ],
      "metadata": {
        "colab": {
          "base_uri": "https://localhost:8080/"
        },
        "id": "PQIWpYrq1ScE",
        "outputId": "41f9d2f0-2626-4284-fb9a-794e42907f4b"
      },
      "execution_count": null,
      "outputs": [
        {
          "output_type": "stream",
          "name": "stdout",
          "text": [
            "(100, 200, 300)\n"
          ]
        }
      ]
    },
    {
      "cell_type": "code",
      "source": [],
      "metadata": {
        "id": "8aczQr1u1Vox"
      },
      "execution_count": null,
      "outputs": []
    },
    {
      "cell_type": "markdown",
      "source": [
        "12. Code to access the second-to-last element of the tuple ('red', 'green', 'blue', 'yellow')."
      ],
      "metadata": {
        "id": "bM0VCgcp1XPj"
      }
    },
    {
      "cell_type": "code",
      "source": [
        "Tup_color=('red','green','blue','yellow')\n",
        "Tup_color[-2]"
      ],
      "metadata": {
        "colab": {
          "base_uri": "https://localhost:8080/",
          "height": 36
        },
        "id": "Wl0PrVJ-1fRd",
        "outputId": "3b93bec9-36df-4548-b46c-ae000f2ae1f7"
      },
      "execution_count": null,
      "outputs": [
        {
          "output_type": "execute_result",
          "data": {
            "text/plain": [
              "'blue'"
            ],
            "application/vnd.google.colaboratory.intrinsic+json": {
              "type": "string"
            }
          },
          "metadata": {},
          "execution_count": 36
        }
      ]
    },
    {
      "cell_type": "markdown",
      "source": [
        "13. code to find the minimum number in the tuple (10, 20, 5, 15)."
      ],
      "metadata": {
        "id": "JaL6mLvk2fc7"
      }
    },
    {
      "cell_type": "code",
      "source": [
        "t=(10,20,5,15)\n",
        "min(t)"
      ],
      "metadata": {
        "colab": {
          "base_uri": "https://localhost:8080/"
        },
        "id": "x0h758GQ2ofC",
        "outputId": "fdc38d7c-684c-40cc-f12c-1c2c5bc08ba2"
      },
      "execution_count": null,
      "outputs": [
        {
          "output_type": "execute_result",
          "data": {
            "text/plain": [
              "5"
            ]
          },
          "metadata": {},
          "execution_count": 37
        }
      ]
    },
    {
      "cell_type": "markdown",
      "source": [
        "14. code to find the index of the element \"cat\" in the tuple ('dog', 'cat', 'rabbit')."
      ],
      "metadata": {
        "id": "aZ6yIwHr3Hkf"
      }
    },
    {
      "cell_type": "code",
      "source": [
        "tup=('dog','cat','rabbit')\n",
        "x=tup.index('cat')\n",
        "print(x)"
      ],
      "metadata": {
        "colab": {
          "base_uri": "https://localhost:8080/"
        },
        "id": "BXJPkEMH3LG7",
        "outputId": "ce3466b7-77fc-40db-a051-de12f86f4b13"
      },
      "execution_count": null,
      "outputs": [
        {
          "output_type": "stream",
          "name": "stdout",
          "text": [
            "1\n"
          ]
        }
      ]
    },
    {
      "cell_type": "markdown",
      "source": [
        "15. code to create a tuple containing three different fruits and check if \"kiwi\" is in it."
      ],
      "metadata": {
        "id": "BcEuWL9b3g9D"
      }
    },
    {
      "cell_type": "code",
      "source": [
        "tup=('banana','kiwi','mango')\n",
        "if 'kiwi' in tup:\n",
        "  print('kiwi is in the tuple')\n",
        "else:\n",
        "  print('kiwi not in the tuple')"
      ],
      "metadata": {
        "colab": {
          "base_uri": "https://localhost:8080/"
        },
        "id": "_l8dHZEf3sqn",
        "outputId": "b336bf81-c10c-4d87-bcad-b101af0a7dca"
      },
      "execution_count": null,
      "outputs": [
        {
          "output_type": "stream",
          "name": "stdout",
          "text": [
            "kiwi is in the tuple\n"
          ]
        }
      ]
    },
    {
      "cell_type": "code",
      "source": [],
      "metadata": {
        "id": "RnSFUMGR4JRD"
      },
      "execution_count": null,
      "outputs": []
    },
    {
      "cell_type": "markdown",
      "source": [
        "16.  code to create a set with the elements 'a', 'b', 'c' and print it."
      ],
      "metadata": {
        "id": "I1Obhc8s4K29"
      }
    },
    {
      "cell_type": "code",
      "source": [
        "set={'a','b','c'}\n",
        "type(set)"
      ],
      "metadata": {
        "colab": {
          "base_uri": "https://localhost:8080/"
        },
        "id": "aCBDl6584Q0e",
        "outputId": "94841c1f-cb7b-49ea-e619-1fb51326fde2"
      },
      "execution_count": null,
      "outputs": [
        {
          "output_type": "execute_result",
          "data": {
            "text/plain": [
              "set"
            ]
          },
          "metadata": {},
          "execution_count": 42
        }
      ]
    },
    {
      "cell_type": "code",
      "source": [
        "print(set)"
      ],
      "metadata": {
        "colab": {
          "base_uri": "https://localhost:8080/"
        },
        "id": "sl0Omm4z4c2z",
        "outputId": "aeedb76f-a952-4a3c-a599-47cc1b26a780"
      },
      "execution_count": null,
      "outputs": [
        {
          "output_type": "stream",
          "name": "stdout",
          "text": [
            "{'c', 'a', 'b'}\n"
          ]
        }
      ]
    },
    {
      "cell_type": "code",
      "source": [],
      "metadata": {
        "id": "7QPyeLTO4lXG"
      },
      "execution_count": null,
      "outputs": []
    },
    {
      "cell_type": "markdown",
      "source": [
        "17. code to clear all elements from the set {1, 2, 3, 4, 5}"
      ],
      "metadata": {
        "id": "m_lWADDv4xJP"
      }
    },
    {
      "cell_type": "code",
      "source": [
        "a={1,2,3,4,5}\n",
        "type(a)"
      ],
      "metadata": {
        "colab": {
          "base_uri": "https://localhost:8080/"
        },
        "id": "cxaSmXUt46cb",
        "outputId": "3125a5e4-9cc8-4c8b-88f1-f8edc8a296e9"
      },
      "execution_count": null,
      "outputs": [
        {
          "output_type": "execute_result",
          "data": {
            "text/plain": [
              "set"
            ]
          },
          "metadata": {},
          "execution_count": 44
        }
      ]
    },
    {
      "cell_type": "code",
      "source": [
        "a.clear()"
      ],
      "metadata": {
        "id": "vt4_LVtT4-vu"
      },
      "execution_count": null,
      "outputs": []
    },
    {
      "cell_type": "code",
      "source": [
        "print(a)"
      ],
      "metadata": {
        "colab": {
          "base_uri": "https://localhost:8080/"
        },
        "id": "T7pyw7hb5Dyz",
        "outputId": "17556efe-bab8-4677-ddae-17d52d968dd9"
      },
      "execution_count": null,
      "outputs": [
        {
          "output_type": "stream",
          "name": "stdout",
          "text": [
            "set()\n"
          ]
        }
      ]
    },
    {
      "cell_type": "code",
      "source": [],
      "metadata": {
        "id": "SvD5h0275GBG"
      },
      "execution_count": null,
      "outputs": []
    },
    {
      "cell_type": "markdown",
      "source": [
        "18.  code to remove the element 4 from the set {1, 2, 3, 4}."
      ],
      "metadata": {
        "id": "87QPQ7gA5Iva"
      }
    },
    {
      "cell_type": "code",
      "source": [
        "set={1,2,3,4}\n",
        "set.remove(4)"
      ],
      "metadata": {
        "id": "-8xhoiLp5NyR"
      },
      "execution_count": null,
      "outputs": []
    },
    {
      "cell_type": "code",
      "source": [
        "print(set)"
      ],
      "metadata": {
        "colab": {
          "base_uri": "https://localhost:8080/"
        },
        "id": "5OQjzExb7lrh",
        "outputId": "012c3189-4198-4836-ef48-1029bd21e54a"
      },
      "execution_count": null,
      "outputs": [
        {
          "output_type": "stream",
          "name": "stdout",
          "text": [
            "{1, 2, 3}\n"
          ]
        }
      ]
    },
    {
      "cell_type": "code",
      "source": [],
      "metadata": {
        "id": "GAb7S6i57pHr"
      },
      "execution_count": null,
      "outputs": []
    },
    {
      "cell_type": "markdown",
      "source": [
        "19. code to find the union of two sets {1, 2, 3} and {3, 4, 5}."
      ],
      "metadata": {
        "id": "SisWL76n8I_u"
      }
    },
    {
      "cell_type": "code",
      "source": [
        "a={1,2,3}\n",
        "b={3,4,5}\n",
        "x= a.union(b)\n",
        "print(x)"
      ],
      "metadata": {
        "colab": {
          "base_uri": "https://localhost:8080/"
        },
        "id": "cZzS2Bcr8kWQ",
        "outputId": "95beb630-3b73-4669-ab78-f7372ce46184"
      },
      "execution_count": null,
      "outputs": [
        {
          "output_type": "stream",
          "name": "stdout",
          "text": [
            "{1, 2, 3, 4, 5}\n"
          ]
        }
      ]
    },
    {
      "cell_type": "code",
      "source": [],
      "metadata": {
        "id": "KvcnDZpw8xGh"
      },
      "execution_count": null,
      "outputs": []
    },
    {
      "cell_type": "markdown",
      "source": [
        "20. code to find the intersection of two sets {1, 2, 3} and {2, 3, 4}."
      ],
      "metadata": {
        "id": "19qHNjGk9ETs"
      }
    },
    {
      "cell_type": "code",
      "source": [
        "a={1,2,3}\n",
        "b={3,4,5}\n",
        "y= a.intersection(b)\n",
        "print(y)"
      ],
      "metadata": {
        "colab": {
          "base_uri": "https://localhost:8080/"
        },
        "id": "1Czbennt9JK1",
        "outputId": "86054fac-fab3-4294-c883-626194cb8b08"
      },
      "execution_count": null,
      "outputs": [
        {
          "output_type": "stream",
          "name": "stdout",
          "text": [
            "{3}\n"
          ]
        }
      ]
    },
    {
      "cell_type": "code",
      "source": [],
      "metadata": {
        "id": "wCHeVa3S9YZH"
      },
      "execution_count": null,
      "outputs": []
    },
    {
      "cell_type": "markdown",
      "source": [
        "21.code to create a dictionary with the keys \"name\", \"age\", and \"city\", and print it."
      ],
      "metadata": {
        "id": "aliBgxo_9Zsk"
      }
    },
    {
      "cell_type": "code",
      "source": [
        "my_dict= {'name':'Malabika','age':30,'city':'Bangalore'}\n",
        "print(my_dict)"
      ],
      "metadata": {
        "colab": {
          "base_uri": "https://localhost:8080/"
        },
        "id": "c1cjs-q59tZa",
        "outputId": "3f377279-93b9-4880-a3dc-0985c77afa39"
      },
      "execution_count": null,
      "outputs": [
        {
          "output_type": "stream",
          "name": "stdout",
          "text": [
            "{'name': 'Malabika', 'age': 30, 'city': 'Bangalore'}\n"
          ]
        }
      ]
    },
    {
      "cell_type": "markdown",
      "source": [
        "22. code to add a new key-value pair \"country\": \"USA\" to the dictionary {'name': 'John', 'age': 25}."
      ],
      "metadata": {
        "id": "k2bt6sGg_DyG"
      }
    },
    {
      "cell_type": "code",
      "source": [
        "dict={'name':'John','age':25}\n",
        "type(dict)"
      ],
      "metadata": {
        "colab": {
          "base_uri": "https://localhost:8080/"
        },
        "id": "udIlPm_y_WoI",
        "outputId": "25e1742f-eb11-4f40-9d04-b1588e5edd3b"
      },
      "execution_count": null,
      "outputs": [
        {
          "output_type": "execute_result",
          "data": {
            "text/plain": [
              "dict"
            ]
          },
          "metadata": {},
          "execution_count": 53
        }
      ]
    },
    {
      "cell_type": "code",
      "source": [
        "dict.update({'country':'USA'})\n",
        "print(dict)"
      ],
      "metadata": {
        "colab": {
          "base_uri": "https://localhost:8080/"
        },
        "id": "rFI9VFwy_ngt",
        "outputId": "35c3cf17-100f-4300-88ea-c668f8f7a730"
      },
      "execution_count": null,
      "outputs": [
        {
          "output_type": "stream",
          "name": "stdout",
          "text": [
            "{'name': 'John', 'age': 25, 'country': 'USA'}\n"
          ]
        }
      ]
    },
    {
      "cell_type": "code",
      "source": [],
      "metadata": {
        "id": "mkQJ0R9K_5an"
      },
      "execution_count": null,
      "outputs": []
    },
    {
      "cell_type": "markdown",
      "source": [
        "23. code to access the value associated with the key \"name\" in the dictionary {'name': 'Alice', 'age': 30}."
      ],
      "metadata": {
        "id": "g3ES7b4g_6lp"
      }
    },
    {
      "cell_type": "code",
      "source": [
        "a={'name':'Alice','age':30}\n",
        "print(a.get('name'))"
      ],
      "metadata": {
        "colab": {
          "base_uri": "https://localhost:8080/"
        },
        "id": "YcNiv1TNAH5w",
        "outputId": "d576fcda-3cd3-4365-9714-0b6f5137e69d"
      },
      "execution_count": null,
      "outputs": [
        {
          "output_type": "stream",
          "name": "stdout",
          "text": [
            "Alice\n"
          ]
        }
      ]
    },
    {
      "cell_type": "code",
      "source": [],
      "metadata": {
        "id": "EFPxfL9KAg7j"
      },
      "execution_count": null,
      "outputs": []
    },
    {
      "cell_type": "markdown",
      "source": [
        "24.code to remove the key \"age\" from the dictionary {'name': 'Bob', 'age': 22, 'city': 'New York'}."
      ],
      "metadata": {
        "id": "tQHsr-kKAjZe"
      }
    },
    {
      "cell_type": "code",
      "source": [
        "a={'name':'Bob','age':22,'city':'New York'}\n",
        "del a['age']"
      ],
      "metadata": {
        "id": "2U9h_EnFA6Nx"
      },
      "execution_count": null,
      "outputs": []
    },
    {
      "cell_type": "code",
      "source": [
        "print(a)"
      ],
      "metadata": {
        "colab": {
          "base_uri": "https://localhost:8080/"
        },
        "id": "920qBnE4BV_P",
        "outputId": "6ae82824-d0d3-4ecb-f9c5-f630219ee38f"
      },
      "execution_count": null,
      "outputs": [
        {
          "output_type": "stream",
          "name": "stdout",
          "text": [
            "{'name': 'Bob', 'city': 'New York'}\n"
          ]
        }
      ]
    },
    {
      "cell_type": "markdown",
      "source": [
        "25. code to check if the key \"city\" exists in the dictionary {'name': 'Alice', 'city': 'Paris'}"
      ],
      "metadata": {
        "id": "a7YFWxPyBZbL"
      }
    },
    {
      "cell_type": "code",
      "source": [
        "a={'name':'Alice','city':'Paris'}\n",
        "if 'city' in a:\n",
        "  print (\"city is in dictionary\")"
      ],
      "metadata": {
        "colab": {
          "base_uri": "https://localhost:8080/"
        },
        "id": "xWHEn6IJBhhy",
        "outputId": "d7dc6945-6ec0-4352-9d4a-7c8480bb40ca"
      },
      "execution_count": null,
      "outputs": [
        {
          "output_type": "stream",
          "name": "stdout",
          "text": [
            "city is in dictionary\n"
          ]
        }
      ]
    },
    {
      "cell_type": "code",
      "source": [],
      "metadata": {
        "id": "eHK3En37B6_7"
      },
      "execution_count": null,
      "outputs": []
    },
    {
      "cell_type": "markdown",
      "source": [
        "26. code to create a list, a tuple, and a dictionary, and print them all."
      ],
      "metadata": {
        "id": "cZJFsBJMB8--"
      }
    },
    {
      "cell_type": "code",
      "source": [
        "my_list=['a','b','keys','value','Mumbai',100,250]\n",
        "type(my_list)"
      ],
      "metadata": {
        "colab": {
          "base_uri": "https://localhost:8080/"
        },
        "id": "dhb-JEAGCC3g",
        "outputId": "e663571e-99f0-44b5-8b53-62ed20725eca"
      },
      "execution_count": null,
      "outputs": [
        {
          "output_type": "execute_result",
          "data": {
            "text/plain": [
              "list"
            ]
          },
          "metadata": {},
          "execution_count": 59
        }
      ]
    },
    {
      "cell_type": "code",
      "source": [
        "print(my_list)"
      ],
      "metadata": {
        "colab": {
          "base_uri": "https://localhost:8080/"
        },
        "id": "yaco3QBcCVqu",
        "outputId": "5241d921-a971-4df6-c2e5-b02cf612805e"
      },
      "execution_count": null,
      "outputs": [
        {
          "output_type": "stream",
          "name": "stdout",
          "text": [
            "['a', 'b', 'keys', 'value', 'Mumbai', 100, 250]\n"
          ]
        }
      ]
    },
    {
      "cell_type": "code",
      "source": [
        "my_tup=(250,100,\"Mumbai\",\"Keys\")\n",
        "type(my_tup)"
      ],
      "metadata": {
        "colab": {
          "base_uri": "https://localhost:8080/"
        },
        "id": "D_KP4PjzCYOv",
        "outputId": "cf24d28e-b66c-48cc-a84b-2562bf213b01"
      },
      "execution_count": null,
      "outputs": [
        {
          "output_type": "execute_result",
          "data": {
            "text/plain": [
              "tuple"
            ]
          },
          "metadata": {},
          "execution_count": 61
        }
      ]
    },
    {
      "cell_type": "code",
      "source": [
        "print(my_tup)"
      ],
      "metadata": {
        "colab": {
          "base_uri": "https://localhost:8080/"
        },
        "id": "TJyp673kCmQp",
        "outputId": "d92f9edc-6848-43f9-c4a0-93483928da46"
      },
      "execution_count": null,
      "outputs": [
        {
          "output_type": "stream",
          "name": "stdout",
          "text": [
            "(250, 100, 'Mumbai', 'Keys')\n"
          ]
        }
      ]
    },
    {
      "cell_type": "code",
      "source": [
        "my_dict={'City':'Mumbai','temperature':'250F','Bus Number':'100'}\n",
        "type(my_dict)"
      ],
      "metadata": {
        "colab": {
          "base_uri": "https://localhost:8080/"
        },
        "id": "FOz33HoACpIa",
        "outputId": "003487ed-0158-4cfd-895f-84966e247945"
      },
      "execution_count": null,
      "outputs": [
        {
          "output_type": "execute_result",
          "data": {
            "text/plain": [
              "dict"
            ]
          },
          "metadata": {},
          "execution_count": 63
        }
      ]
    },
    {
      "cell_type": "code",
      "source": [
        "print(my_dict)"
      ],
      "metadata": {
        "colab": {
          "base_uri": "https://localhost:8080/"
        },
        "id": "doPCZeb7DNdb",
        "outputId": "2b6d108c-de57-4bc5-8bf0-535980eb630c"
      },
      "execution_count": null,
      "outputs": [
        {
          "output_type": "stream",
          "name": "stdout",
          "text": [
            "{'City': 'Mumbai', 'temperature': '250F', 'Bus Number': '100'}\n"
          ]
        }
      ]
    },
    {
      "cell_type": "code",
      "source": [],
      "metadata": {
        "id": "ub2e7S8EDRK8"
      },
      "execution_count": null,
      "outputs": []
    },
    {
      "cell_type": "markdown",
      "source": [
        "27. code to create a list of 5 random numbers between 1 and 100, sort it in ascending order, and print the result"
      ],
      "metadata": {
        "id": "pey72u8WDT-F"
      }
    },
    {
      "cell_type": "code",
      "source": [
        "num_list=[45,59,77,18,98]\n",
        "num_list.sort()\n",
        "print(num_list)"
      ],
      "metadata": {
        "colab": {
          "base_uri": "https://localhost:8080/"
        },
        "id": "53DiHYmDDgT0",
        "outputId": "6be02b3d-3dfe-4bf0-83a1-482a110c77af"
      },
      "execution_count": null,
      "outputs": [
        {
          "output_type": "stream",
          "name": "stdout",
          "text": [
            "[18, 45, 59, 77, 98]\n"
          ]
        }
      ]
    },
    {
      "cell_type": "code",
      "source": [
        "num_list.sort(reverse=True)\n",
        "print(num_list)"
      ],
      "metadata": {
        "colab": {
          "base_uri": "https://localhost:8080/"
        },
        "id": "G0PJLCMZD8nQ",
        "outputId": "9ddc5a10-402e-454b-eb74-f947dc52fe48"
      },
      "execution_count": null,
      "outputs": [
        {
          "output_type": "stream",
          "name": "stdout",
          "text": [
            "[98, 77, 59, 45, 18]\n"
          ]
        }
      ]
    },
    {
      "cell_type": "code",
      "source": [],
      "metadata": {
        "id": "aiwO2007ETRv"
      },
      "execution_count": null,
      "outputs": []
    },
    {
      "cell_type": "markdown",
      "source": [
        "28. code to create a list with strings and print the element at the third index."
      ],
      "metadata": {
        "id": "yLRf3KqUEUaM"
      }
    },
    {
      "cell_type": "code",
      "source": [
        "s=[\"mango\",\"morning\",\"monday\",\"magic\"]\n",
        "type(s)"
      ],
      "metadata": {
        "colab": {
          "base_uri": "https://localhost:8080/"
        },
        "id": "v4gKOqZNEZ17",
        "outputId": "66517874-c538-49ff-d46b-6cc345264bd3"
      },
      "execution_count": null,
      "outputs": [
        {
          "output_type": "execute_result",
          "data": {
            "text/plain": [
              "list"
            ]
          },
          "metadata": {},
          "execution_count": 69
        }
      ]
    },
    {
      "cell_type": "code",
      "source": [
        "print(s[3])"
      ],
      "metadata": {
        "colab": {
          "base_uri": "https://localhost:8080/"
        },
        "id": "vIxe-PfsE-cY",
        "outputId": "6556e9c6-e3da-4671-e17f-2b54edf103d6"
      },
      "execution_count": null,
      "outputs": [
        {
          "output_type": "stream",
          "name": "stdout",
          "text": [
            "magic\n"
          ]
        }
      ]
    },
    {
      "cell_type": "code",
      "source": [],
      "metadata": {
        "id": "QdjM7_CrFGpe"
      },
      "execution_count": null,
      "outputs": []
    },
    {
      "cell_type": "markdown",
      "source": [
        "29. code to combine two dictionaries into one and print the result."
      ],
      "metadata": {
        "id": "9bc6_M1AFHz2"
      }
    },
    {
      "cell_type": "code",
      "source": [
        "from typing_extensions import Concatenate\n",
        "a={'name':'rahul','city':'delhi','age':28}\n",
        "b={'name1':'jagannath','city1':'kolkata','age1':48}\n",
        "m=a|b\n",
        "print(m)"
      ],
      "metadata": {
        "colab": {
          "base_uri": "https://localhost:8080/"
        },
        "id": "f7MLNHK7FOwQ",
        "outputId": "e9c53bd9-6ca6-45aa-fc30-cfaf45ecb5d3"
      },
      "execution_count": null,
      "outputs": [
        {
          "output_type": "stream",
          "name": "stdout",
          "text": [
            "{'name': 'rahul', 'city': 'delhi', 'age': 28, 'name1': 'jagannath', 'city1': 'kolkata', 'age1': 48}\n"
          ]
        }
      ]
    },
    {
      "cell_type": "code",
      "source": [],
      "metadata": {
        "id": "6av4X7EfGc-e"
      },
      "execution_count": null,
      "outputs": []
    },
    {
      "cell_type": "markdown",
      "source": [
        "30. code to convert a list of strings into a set."
      ],
      "metadata": {
        "id": "w0U0pJIWHsig"
      }
    },
    {
      "cell_type": "code",
      "source": [
        "list=[\"bag\",\"mango\",\"kite\",\"house\"]\n",
        "my_set={list[0],list[1],list[2],list[3]}\n",
        "print(my_set)"
      ],
      "metadata": {
        "colab": {
          "base_uri": "https://localhost:8080/"
        },
        "id": "HPNMzQ7cNVhA",
        "outputId": "273dad8b-83ad-4483-91ee-3c4fb128a911"
      },
      "execution_count": null,
      "outputs": [
        {
          "output_type": "stream",
          "name": "stdout",
          "text": [
            "{'mango', 'house', 'bag', 'kite'}\n"
          ]
        }
      ]
    },
    {
      "cell_type": "code",
      "source": [],
      "metadata": {
        "id": "hprNxIp9Nv4a"
      },
      "execution_count": null,
      "outputs": []
    }
  ]
}