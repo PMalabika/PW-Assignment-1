{
  "nbformat": 4,
  "nbformat_minor": 0,
  "metadata": {
    "colab": {
      "provenance": []
    },
    "kernelspec": {
      "name": "python3",
      "display_name": "Python 3"
    },
    "language_info": {
      "name": "python"
    }
  },
  "cells": [
    {
      "cell_type": "code",
      "execution_count": null,
      "metadata": {
        "id": "n0UhO9JLRVzq"
      },
      "outputs": [],
      "source": []
    },
    {
      "cell_type": "markdown",
      "source": [
        "1. Key features of Python that makes it a popular choice for programming are:\n",
        "    \n",
        "\n",
        "*   Python is easy to learn and use- Simplicity\n",
        "*   It has a rich eco system of libraries like PANDA (for Data manipulation), NUMPLY(Numerical data analysis), MATPLOT, SEABORN and many which makes Python widely applicable with wide range of functionalities.\n",
        "*   The python Programming Language is scalable and versatile, which means it can adapt to the growing demand and can handle variety of task applications.\n",
        "*   Python is free and Open source programming language.\n",
        "*   Python is having a good community where innovations and support is quiet easily doable\n",
        "\n",
        "\n",
        "\n",
        "\n",
        "\n",
        "\n",
        "\n",
        "\n"
      ],
      "metadata": {
        "id": "hPQ0nWGZRjxB"
      }
    },
    {
      "cell_type": "code",
      "source": [],
      "metadata": {
        "id": "2mtiprbHTwNJ"
      },
      "execution_count": null,
      "outputs": []
    },
    {
      "cell_type": "markdown",
      "source": [
        "2. Role of predefined keywords in Python\n",
        "   Pre defined keywords in Python holds a special meaning and a specific purpose.There are around 39 keywords in Python. The majore role of keywords in python are-\n",
        "\n",
        "*   They help programmers to execute an instruction with lesser number of codes, which makes the program simple and compact.\n",
        "*   Keywords makes the run time for a program less , which makes the execution of instruction faster\n",
        "*   They makes the Python code more readable and beautiful\n",
        "\n",
        "\n",
        "Example\n",
        "\n",
        "\n",
        "\n"
      ],
      "metadata": {
        "id": "_VrP__GyT3OI"
      }
    },
    {
      "cell_type": "code",
      "source": [],
      "metadata": {
        "id": "GeW7VAoPW3Em"
      },
      "execution_count": null,
      "outputs": []
    },
    {
      "cell_type": "code",
      "source": [
        "x =1\n",
        "x is True"
      ],
      "metadata": {
        "colab": {
          "base_uri": "https://localhost:8080/"
        },
        "id": "PTkdRVOcXAvS",
        "outputId": "8a608395-72f0-43b8-c650-29d3ef0f964b"
      },
      "execution_count": 4,
      "outputs": [
        {
          "output_type": "execute_result",
          "data": {
            "text/plain": [
              "False"
            ]
          },
          "metadata": {},
          "execution_count": 4
        }
      ]
    },
    {
      "cell_type": "code",
      "source": [
        "x= bool(1)\n",
        "x is True"
      ],
      "metadata": {
        "colab": {
          "base_uri": "https://localhost:8080/"
        },
        "id": "NotAWJYWYdpY",
        "outputId": "dc592f09-6db5-4e97-c2ec-9453dd915bad"
      },
      "execution_count": 7,
      "outputs": [
        {
          "output_type": "execute_result",
          "data": {
            "text/plain": [
              "True"
            ]
          },
          "metadata": {},
          "execution_count": 7
        }
      ]
    },
    {
      "cell_type": "code",
      "source": [],
      "metadata": {
        "id": "i443a7-FYpEj"
      },
      "execution_count": null,
      "outputs": []
    },
    {
      "cell_type": "markdown",
      "source": [
        "3.  Mutable and immutable object comparision\n",
        "\n",
        "\n",
        "*   The object whose value/state can be changed after they are created then it is called as mutable object otherwise its called immutable object.\n",
        "*   As per access of these objects in Python - Immutable objects are quicker to access and bit expensive to change than the mutable objects\n",
        "*   Mutable objects are more versatile than the immutable ones as we can chnage size and content of the mutable objects.\n",
        "\n",
        "Example of Mutable object:\n",
        "\n",
        "\n",
        "\n"
      ],
      "metadata": {
        "id": "QZMEH1aUYqj9"
      }
    },
    {
      "cell_type": "code",
      "source": [
        "my_list= [1,2,3]\n",
        "my_list [0]=5\n",
        "print (my_list)"
      ],
      "metadata": {
        "colab": {
          "base_uri": "https://localhost:8080/"
        },
        "id": "XzrpSbXTbc9G",
        "outputId": "71983f6d-e112-432b-aa9e-470d89036c9f"
      },
      "execution_count": 12,
      "outputs": [
        {
          "output_type": "stream",
          "name": "stdout",
          "text": [
            "[5, 2, 3]\n"
          ]
        }
      ]
    },
    {
      "cell_type": "code",
      "source": [],
      "metadata": {
        "id": "Od3N8LJPc4wr"
      },
      "execution_count": null,
      "outputs": []
    },
    {
      "cell_type": "markdown",
      "source": [
        "Example of Immutable object\n"
      ],
      "metadata": {
        "id": "WZ5qbi-ZdQqW"
      }
    },
    {
      "cell_type": "code",
      "source": [
        "a= \"Malabika\"\n",
        "print (a)"
      ],
      "metadata": {
        "colab": {
          "base_uri": "https://localhost:8080/"
        },
        "id": "c6HjW5LNdXOq",
        "outputId": "bf196bf3-0438-4128-edf0-984a225f54f8"
      },
      "execution_count": 13,
      "outputs": [
        {
          "output_type": "stream",
          "name": "stdout",
          "text": [
            "Malabika\n"
          ]
        }
      ]
    },
    {
      "cell_type": "code",
      "source": [],
      "metadata": {
        "id": "vPfPmveFdohX"
      },
      "execution_count": null,
      "outputs": []
    },
    {
      "cell_type": "markdown",
      "source": [
        "4. Different types of operators:\n",
        "    Operators are special words/ symbols used to perform operations on values or variable.\n",
        "    Operators are basically used to manage data, to do computations and to make decision using data.\n",
        "    In Python there various types of operators like-\n",
        "     Arithmatic operator"
      ],
      "metadata": {
        "id": "8I6SFoMvlt02"
      }
    },
    {
      "cell_type": "code",
      "source": [
        "a=3\n",
        "b=2\n",
        "a+b"
      ],
      "metadata": {
        "colab": {
          "base_uri": "https://localhost:8080/"
        },
        "id": "WjYxIJIvmlr_",
        "outputId": "7743baa2-07c8-455e-8b76-0c7503c690b1"
      },
      "execution_count": 14,
      "outputs": [
        {
          "output_type": "execute_result",
          "data": {
            "text/plain": [
              "5"
            ]
          },
          "metadata": {},
          "execution_count": 14
        }
      ]
    },
    {
      "cell_type": "code",
      "source": [
        "25%5"
      ],
      "metadata": {
        "colab": {
          "base_uri": "https://localhost:8080/"
        },
        "id": "FVeMaNLRmqvv",
        "outputId": "a7d079a5-2f7c-4a11-c033-be0e2b2b9687"
      },
      "execution_count": 15,
      "outputs": [
        {
          "output_type": "execute_result",
          "data": {
            "text/plain": [
              "0"
            ]
          },
          "metadata": {},
          "execution_count": 15
        }
      ]
    },
    {
      "cell_type": "code",
      "source": [
        "2**8"
      ],
      "metadata": {
        "colab": {
          "base_uri": "https://localhost:8080/"
        },
        "id": "EpQvAudjm166",
        "outputId": "f640adc3-7c36-48ae-fe8f-25528a506a78"
      },
      "execution_count": 16,
      "outputs": [
        {
          "output_type": "execute_result",
          "data": {
            "text/plain": [
              "256"
            ]
          },
          "metadata": {},
          "execution_count": 16
        }
      ]
    },
    {
      "cell_type": "code",
      "source": [],
      "metadata": {
        "id": "RxeR0MU7nA1A"
      },
      "execution_count": null,
      "outputs": []
    },
    {
      "cell_type": "markdown",
      "source": [
        "Comparision Operator"
      ],
      "metadata": {
        "id": "sUv0K-LWnCfM"
      }
    },
    {
      "cell_type": "code",
      "source": [
        "5>4"
      ],
      "metadata": {
        "colab": {
          "base_uri": "https://localhost:8080/"
        },
        "id": "snYDBVqUnF5D",
        "outputId": "90d52e16-93aa-4ae3-d946-9a9e63fc9962"
      },
      "execution_count": 17,
      "outputs": [
        {
          "output_type": "execute_result",
          "data": {
            "text/plain": [
              "True"
            ]
          },
          "metadata": {},
          "execution_count": 17
        }
      ]
    },
    {
      "cell_type": "code",
      "source": [
        "100==100"
      ],
      "metadata": {
        "colab": {
          "base_uri": "https://localhost:8080/"
        },
        "id": "EYAJXAiznPeD",
        "outputId": "a56a7d64-c69d-4827-a4f6-75f90b896d69"
      },
      "execution_count": 18,
      "outputs": [
        {
          "output_type": "execute_result",
          "data": {
            "text/plain": [
              "True"
            ]
          },
          "metadata": {},
          "execution_count": 18
        }
      ]
    },
    {
      "cell_type": "code",
      "source": [
        "100!=5"
      ],
      "metadata": {
        "colab": {
          "base_uri": "https://localhost:8080/"
        },
        "id": "pUq_1c-dnTJu",
        "outputId": "eb5a04ec-091f-429f-a204-3dd0b5a56d2a"
      },
      "execution_count": 19,
      "outputs": [
        {
          "output_type": "execute_result",
          "data": {
            "text/plain": [
              "True"
            ]
          },
          "metadata": {},
          "execution_count": 19
        }
      ]
    },
    {
      "cell_type": "code",
      "source": [],
      "metadata": {
        "id": "1TNDEgZUnWob"
      },
      "execution_count": null,
      "outputs": []
    },
    {
      "cell_type": "markdown",
      "source": [
        "Logical operator\n"
      ],
      "metadata": {
        "id": "pTRchlgvnXkP"
      }
    },
    {
      "cell_type": "code",
      "source": [
        "a=1\n",
        "b=1\n",
        "a and b"
      ],
      "metadata": {
        "colab": {
          "base_uri": "https://localhost:8080/"
        },
        "id": "bwZoZu8rnbdS",
        "outputId": "b838dec0-c32e-47a0-83b5-5d6383048dc7"
      },
      "execution_count": 20,
      "outputs": [
        {
          "output_type": "execute_result",
          "data": {
            "text/plain": [
              "1"
            ]
          },
          "metadata": {},
          "execution_count": 20
        }
      ]
    },
    {
      "cell_type": "code",
      "source": [],
      "metadata": {
        "id": "TcTx489ynhvj"
      },
      "execution_count": null,
      "outputs": []
    },
    {
      "cell_type": "markdown",
      "source": [
        "Not operator\n"
      ],
      "metadata": {
        "id": "vFyAB4fLnnH2"
      }
    },
    {
      "cell_type": "code",
      "source": [
        "not True"
      ],
      "metadata": {
        "colab": {
          "base_uri": "https://localhost:8080/"
        },
        "id": "ZWWi3Kydnow3",
        "outputId": "bbd63add-0396-4bc8-f9d0-de36fb6687cd"
      },
      "execution_count": 21,
      "outputs": [
        {
          "output_type": "execute_result",
          "data": {
            "text/plain": [
              "False"
            ]
          },
          "metadata": {},
          "execution_count": 21
        }
      ]
    },
    {
      "cell_type": "code",
      "source": [
        "not False"
      ],
      "metadata": {
        "colab": {
          "base_uri": "https://localhost:8080/"
        },
        "id": "i0Y_ki0_nry1",
        "outputId": "2e49d806-538a-4170-ed65-343251eb7b37"
      },
      "execution_count": 22,
      "outputs": [
        {
          "output_type": "execute_result",
          "data": {
            "text/plain": [
              "True"
            ]
          },
          "metadata": {},
          "execution_count": 22
        }
      ]
    },
    {
      "cell_type": "code",
      "source": [],
      "metadata": {
        "id": "4u-xGlnHntjC"
      },
      "execution_count": null,
      "outputs": []
    },
    {
      "cell_type": "markdown",
      "source": [
        "Assignment Operator"
      ],
      "metadata": {
        "id": "YTTnjKB4nuqT"
      }
    },
    {
      "cell_type": "code",
      "source": [
        "x=5\n",
        "x"
      ],
      "metadata": {
        "colab": {
          "base_uri": "https://localhost:8080/"
        },
        "id": "slxTolnvnw6e",
        "outputId": "e853a896-2a6c-4eef-f688-490a7f761295"
      },
      "execution_count": 23,
      "outputs": [
        {
          "output_type": "execute_result",
          "data": {
            "text/plain": [
              "5"
            ]
          },
          "metadata": {},
          "execution_count": 23
        }
      ]
    },
    {
      "cell_type": "code",
      "source": [
        "y=10\n",
        "y+2\n"
      ],
      "metadata": {
        "colab": {
          "base_uri": "https://localhost:8080/"
        },
        "id": "C4BZPlOOn1N2",
        "outputId": "d3b01bb9-7e60-4e55-ff4b-0ab8fce171b6"
      },
      "execution_count": 25,
      "outputs": [
        {
          "output_type": "execute_result",
          "data": {
            "text/plain": [
              "12"
            ]
          },
          "metadata": {},
          "execution_count": 25
        }
      ]
    },
    {
      "cell_type": "code",
      "source": [],
      "metadata": {
        "id": "m0eCGCt0n6PR"
      },
      "execution_count": null,
      "outputs": []
    },
    {
      "cell_type": "markdown",
      "source": [
        "Membership Operator\n"
      ],
      "metadata": {
        "id": "qtu5qv7Bn-Jc"
      }
    },
    {
      "cell_type": "code",
      "source": [
        "m= \"malabika\"\n",
        "\"m\" in m"
      ],
      "metadata": {
        "colab": {
          "base_uri": "https://localhost:8080/"
        },
        "id": "pho_S9ELoQdn",
        "outputId": "c83a1d7a-4229-4165-d155-986e95e68c9f"
      },
      "execution_count": 26,
      "outputs": [
        {
          "output_type": "execute_result",
          "data": {
            "text/plain": [
              "True"
            ]
          },
          "metadata": {},
          "execution_count": 26
        }
      ]
    },
    {
      "cell_type": "code",
      "source": [],
      "metadata": {
        "id": "ruaR9mnioIW4"
      },
      "execution_count": null,
      "outputs": []
    },
    {
      "cell_type": "markdown",
      "source": [
        "Identity Operator"
      ],
      "metadata": {
        "id": "q_ZdRKv9oXng"
      }
    },
    {
      "cell_type": "code",
      "source": [
        "x=10000\n",
        "y=1000\n",
        "x is y"
      ],
      "metadata": {
        "colab": {
          "base_uri": "https://localhost:8080/"
        },
        "id": "35fQV-SXoaCA",
        "outputId": "1a06fafc-892a-4d17-d878-bfd362221db7"
      },
      "execution_count": 27,
      "outputs": [
        {
          "output_type": "execute_result",
          "data": {
            "text/plain": [
              "False"
            ]
          },
          "metadata": {},
          "execution_count": 27
        }
      ]
    },
    {
      "cell_type": "code",
      "source": [],
      "metadata": {
        "id": "gPHDGMsSoefC"
      },
      "execution_count": null,
      "outputs": []
    },
    {
      "cell_type": "markdown",
      "source": [
        "Bitwise Operator"
      ],
      "metadata": {
        "id": "_Mv-1u_Kogf6"
      }
    },
    {
      "cell_type": "code",
      "source": [
        "10 & 100"
      ],
      "metadata": {
        "colab": {
          "base_uri": "https://localhost:8080/"
        },
        "id": "-B5KwGcMoiic",
        "outputId": "23159492-fd09-491c-adbf-334a30ab68eb"
      },
      "execution_count": 28,
      "outputs": [
        {
          "output_type": "execute_result",
          "data": {
            "text/plain": [
              "0"
            ]
          },
          "metadata": {},
          "execution_count": 28
        }
      ]
    },
    {
      "cell_type": "code",
      "source": [
        "bin(10)\n"
      ],
      "metadata": {
        "colab": {
          "base_uri": "https://localhost:8080/",
          "height": 36
        },
        "id": "YWgjE8jyorfj",
        "outputId": "9b5555f8-9633-4a13-92ca-d2fe565b8a91"
      },
      "execution_count": 29,
      "outputs": [
        {
          "output_type": "execute_result",
          "data": {
            "text/plain": [
              "'0b1010'"
            ],
            "application/vnd.google.colaboratory.intrinsic+json": {
              "type": "string"
            }
          },
          "metadata": {},
          "execution_count": 29
        }
      ]
    },
    {
      "cell_type": "code",
      "source": [
        "bin(100)"
      ],
      "metadata": {
        "colab": {
          "base_uri": "https://localhost:8080/",
          "height": 36
        },
        "id": "LoCsvUfFovFd",
        "outputId": "4a6b6069-17ec-4aab-e351-d72475147f10"
      },
      "execution_count": 30,
      "outputs": [
        {
          "output_type": "execute_result",
          "data": {
            "text/plain": [
              "'0b1100100'"
            ],
            "application/vnd.google.colaboratory.intrinsic+json": {
              "type": "string"
            }
          },
          "metadata": {},
          "execution_count": 30
        }
      ]
    },
    {
      "cell_type": "code",
      "source": [],
      "metadata": {
        "id": "zharo9weoyF3"
      },
      "execution_count": null,
      "outputs": []
    },
    {
      "cell_type": "markdown",
      "source": [
        "XOR operator\n"
      ],
      "metadata": {
        "id": "S-gUut9mo0Ag"
      }
    },
    {
      "cell_type": "code",
      "source": [
        "a=5\n",
        "bin(a)"
      ],
      "metadata": {
        "colab": {
          "base_uri": "https://localhost:8080/",
          "height": 36
        },
        "id": "gsFbbHqko6V4",
        "outputId": "45a61e10-dbea-4ae1-e9b6-33cf9e8fe431"
      },
      "execution_count": 31,
      "outputs": [
        {
          "output_type": "execute_result",
          "data": {
            "text/plain": [
              "'0b101'"
            ],
            "application/vnd.google.colaboratory.intrinsic+json": {
              "type": "string"
            }
          },
          "metadata": {},
          "execution_count": 31
        }
      ]
    },
    {
      "cell_type": "code",
      "source": [
        "b=6\n",
        "bin(6)"
      ],
      "metadata": {
        "colab": {
          "base_uri": "https://localhost:8080/",
          "height": 36
        },
        "id": "mQECtseVo_DH",
        "outputId": "c5d26c94-b787-49c1-cd2d-b6fa271f4bd8"
      },
      "execution_count": 32,
      "outputs": [
        {
          "output_type": "execute_result",
          "data": {
            "text/plain": [
              "'0b110'"
            ],
            "application/vnd.google.colaboratory.intrinsic+json": {
              "type": "string"
            }
          },
          "metadata": {},
          "execution_count": 32
        }
      ]
    },
    {
      "cell_type": "code",
      "source": [
        "a^b"
      ],
      "metadata": {
        "colab": {
          "base_uri": "https://localhost:8080/"
        },
        "id": "b0K84HFqpB0y",
        "outputId": "d38b1dbd-3bb7-4276-8984-6cf7efc19c6c"
      },
      "execution_count": 33,
      "outputs": [
        {
          "output_type": "execute_result",
          "data": {
            "text/plain": [
              "3"
            ]
          },
          "metadata": {},
          "execution_count": 33
        }
      ]
    },
    {
      "cell_type": "code",
      "source": [
        "bin(3)"
      ],
      "metadata": {
        "colab": {
          "base_uri": "https://localhost:8080/",
          "height": 36
        },
        "id": "2m4wEfbZpD3a",
        "outputId": "15394197-345b-4dfb-b15e-a51f4e29e285"
      },
      "execution_count": 34,
      "outputs": [
        {
          "output_type": "execute_result",
          "data": {
            "text/plain": [
              "'0b11'"
            ],
            "application/vnd.google.colaboratory.intrinsic+json": {
              "type": "string"
            }
          },
          "metadata": {},
          "execution_count": 34
        }
      ]
    },
    {
      "cell_type": "code",
      "source": [],
      "metadata": {
        "id": "lA4Ip07ypFv4"
      },
      "execution_count": null,
      "outputs": []
    },
    {
      "cell_type": "markdown",
      "source": [
        "Right Shift Operator"
      ],
      "metadata": {
        "id": "t4caASUxpHPd"
      }
    },
    {
      "cell_type": "code",
      "source": [
        "a=55\n",
        "bin(a)"
      ],
      "metadata": {
        "colab": {
          "base_uri": "https://localhost:8080/",
          "height": 36
        },
        "id": "XwAb5bcIpJ_d",
        "outputId": "8fbf5be5-e986-43cb-e61d-bda85d074f22"
      },
      "execution_count": 35,
      "outputs": [
        {
          "output_type": "execute_result",
          "data": {
            "text/plain": [
              "'0b110111'"
            ],
            "application/vnd.google.colaboratory.intrinsic+json": {
              "type": "string"
            }
          },
          "metadata": {},
          "execution_count": 35
        }
      ]
    },
    {
      "cell_type": "code",
      "source": [
        "a>>3"
      ],
      "metadata": {
        "colab": {
          "base_uri": "https://localhost:8080/"
        },
        "id": "kpHjr0fMpOnY",
        "outputId": "bb7bb2d0-b6de-420d-c542-66cdc649e5d7"
      },
      "execution_count": 36,
      "outputs": [
        {
          "output_type": "execute_result",
          "data": {
            "text/plain": [
              "6"
            ]
          },
          "metadata": {},
          "execution_count": 36
        }
      ]
    },
    {
      "cell_type": "code",
      "source": [
        "bin(6)"
      ],
      "metadata": {
        "colab": {
          "base_uri": "https://localhost:8080/",
          "height": 36
        },
        "id": "Ufk8OdOvpUgM",
        "outputId": "62d79eaa-465a-4ea2-d7a9-281f3ea857f6"
      },
      "execution_count": 37,
      "outputs": [
        {
          "output_type": "execute_result",
          "data": {
            "text/plain": [
              "'0b110'"
            ],
            "application/vnd.google.colaboratory.intrinsic+json": {
              "type": "string"
            }
          },
          "metadata": {},
          "execution_count": 37
        }
      ]
    },
    {
      "cell_type": "code",
      "source": [],
      "metadata": {
        "id": "Zgjnjp3ppWoC"
      },
      "execution_count": null,
      "outputs": []
    },
    {
      "cell_type": "markdown",
      "source": [
        "Left Shift operator"
      ],
      "metadata": {
        "id": "ggOOzl5hpYJK"
      }
    },
    {
      "cell_type": "code",
      "source": [
        "35<<3"
      ],
      "metadata": {
        "colab": {
          "base_uri": "https://localhost:8080/"
        },
        "id": "aFUGYu91pak5",
        "outputId": "7ec21a85-857e-4a58-9c1c-871bf43406b0"
      },
      "execution_count": 38,
      "outputs": [
        {
          "output_type": "execute_result",
          "data": {
            "text/plain": [
              "280"
            ]
          },
          "metadata": {},
          "execution_count": 38
        }
      ]
    },
    {
      "cell_type": "code",
      "source": [
        "bin(35)"
      ],
      "metadata": {
        "colab": {
          "base_uri": "https://localhost:8080/",
          "height": 36
        },
        "id": "hlpl9h7MpdO-",
        "outputId": "27c1b899-7dff-4ae4-e398-8e3a34e5a846"
      },
      "execution_count": 39,
      "outputs": [
        {
          "output_type": "execute_result",
          "data": {
            "text/plain": [
              "'0b100011'"
            ],
            "application/vnd.google.colaboratory.intrinsic+json": {
              "type": "string"
            }
          },
          "metadata": {},
          "execution_count": 39
        }
      ]
    },
    {
      "cell_type": "code",
      "source": [],
      "metadata": {
        "id": "TcNppb5ypfAe"
      },
      "execution_count": null,
      "outputs": []
    },
    {
      "cell_type": "markdown",
      "source": [
        "5. Type casting\n",
        "It is the process of changing the data type of a variable/object in Python\n",
        "Type casting is basically used to execute and compute using operators when there is a mismatch between the data types.\n",
        "Example"
      ],
      "metadata": {
        "id": "uDaxqzq4pimn"
      }
    },
    {
      "cell_type": "code",
      "source": [
        "a=\"2\"\n",
        "b=100\n",
        "int(a)+b"
      ],
      "metadata": {
        "colab": {
          "base_uri": "https://localhost:8080/"
        },
        "id": "JjBPPNvGqr_m",
        "outputId": "d80db6e6-23f1-474d-934c-b252b38f8686"
      },
      "execution_count": 40,
      "outputs": [
        {
          "output_type": "execute_result",
          "data": {
            "text/plain": [
              "102"
            ]
          },
          "metadata": {},
          "execution_count": 40
        }
      ]
    },
    {
      "cell_type": "code",
      "source": [],
      "metadata": {
        "id": "g9n8adavqy4W"
      },
      "execution_count": null,
      "outputs": []
    },
    {
      "cell_type": "markdown",
      "source": [
        "here the string value assigned to a is an integer and the b value is also an integer , hence to perform addition between a and b we have casted the type of the string in to integer and thenn  performed the addition operation\n",
        "\n",
        "Type casting in Python is basically two types Implicit  type casting and Explicit type casting\n",
        "\n",
        "Implicit Type casting\n"
      ],
      "metadata": {
        "id": "jwSUHKPCrAeQ"
      }
    },
    {
      "cell_type": "code",
      "source": [
        "a=5\n",
        "b=3.5\n",
        "a+b"
      ],
      "metadata": {
        "colab": {
          "base_uri": "https://localhost:8080/"
        },
        "id": "mT3KwRKArlfE",
        "outputId": "0bfc5c13-c069-4147-f6b7-909abb77bfa1"
      },
      "execution_count": 41,
      "outputs": [
        {
          "output_type": "execute_result",
          "data": {
            "text/plain": [
              "8.5"
            ]
          },
          "metadata": {},
          "execution_count": 41
        }
      ]
    },
    {
      "cell_type": "code",
      "source": [],
      "metadata": {
        "id": "H40UMmgurtdS"
      },
      "execution_count": null,
      "outputs": []
    },
    {
      "cell_type": "markdown",
      "source": [
        "Explicit Type casting\n"
      ],
      "metadata": {
        "id": "9q-mE2dhrvBj"
      }
    },
    {
      "cell_type": "code",
      "source": [
        "a=\"2\"\n",
        "type(a)"
      ],
      "metadata": {
        "colab": {
          "base_uri": "https://localhost:8080/"
        },
        "id": "mPV40pJ_rx1l",
        "outputId": "2226ce58-a039-4d4f-cf14-f8ea57443ee0"
      },
      "execution_count": 42,
      "outputs": [
        {
          "output_type": "execute_result",
          "data": {
            "text/plain": [
              "str"
            ]
          },
          "metadata": {},
          "execution_count": 42
        }
      ]
    },
    {
      "cell_type": "code",
      "source": [
        "int(a)\n",
        "type(int (a))"
      ],
      "metadata": {
        "colab": {
          "base_uri": "https://localhost:8080/"
        },
        "id": "gU5YbU6Sr5bf",
        "outputId": "600cefe2-933a-491b-f9a8-2cf99303b9eb"
      },
      "execution_count": 44,
      "outputs": [
        {
          "output_type": "execute_result",
          "data": {
            "text/plain": [
              "int"
            ]
          },
          "metadata": {},
          "execution_count": 44
        }
      ]
    },
    {
      "cell_type": "code",
      "source": [],
      "metadata": {
        "id": "wgZ8TwsOsBIH"
      },
      "execution_count": null,
      "outputs": []
    },
    {
      "cell_type": "markdown",
      "source": [
        "6. Conditional statements in Python\n",
        "Conditional statements helps to code decisions based on some predefined predictions.\n",
        "Initially the predictions are decclared and then conditions are applied useing conditional statements like- if, if else, if elif else, instead if else\n",
        "If statement is basically used for single condition and other are used in case of multi conditional statements.\n",
        "As per the predefined prediction , if the condition is satisfied then only the code executes the condition satements and return required value otherwise it will just discard the conditional statemt path and executes the rest.\n",
        "\n",
        "Eaxmple: Cosider a condition of grades in a exam , where if the grade is 8 or more than that the student will score excellent, if the grade is between 6 to 8 the student will be average and if his/her garde is below 6 he/she will fail.\n",
        "\n"
      ],
      "metadata": {
        "id": "i1lhnQclsL--"
      }
    },
    {
      "cell_type": "code",
      "source": [
        "grade=7.5\n",
        "if grade>=8:\n",
        "  print (\"you are Excellent\")\n",
        "elif (6<=grade<8):\n",
        "    print (\"You are Average\")\n",
        "else:\n",
        "  Print (\"You are Fail\")"
      ],
      "metadata": {
        "colab": {
          "base_uri": "https://localhost:8080/"
        },
        "id": "o-baMdpSuSFX",
        "outputId": "f9d99081-9c9d-4174-fd68-d2f6fced87a5"
      },
      "execution_count": 49,
      "outputs": [
        {
          "output_type": "stream",
          "name": "stdout",
          "text": [
            "You are Average\n"
          ]
        }
      ]
    },
    {
      "cell_type": "code",
      "source": [],
      "metadata": {
        "id": "hfp7_zq0tjqM"
      },
      "execution_count": null,
      "outputs": []
    }
  ]
}